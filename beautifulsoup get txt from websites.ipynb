{
 "cells": [
  {
   "cell_type": "code",
   "execution_count": 1,
   "metadata": {},
   "outputs": [],
   "source": [
    "from urllib import request\n",
    "from bs4 import BeautifulSoup, Comment\n",
    "\n",
    "import requests\n",
    "\n",
    "import threading\n",
    "\n",
    "from bs4 import BeautifulSoup\n",
    "\n",
    "import re\n",
    "\n",
    "import os\n",
    "\n",
    "import time\n",
    "\n",
    "import sys\n",
    "\n",
    "import urllib\n",
    "import sys \n",
    "\n"
   ]
  },
  {
   "cell_type": "code",
   "execution_count": 4,
   "metadata": {
    "scrolled": true
   },
   "outputs": [],
   "source": [
    "download_url = 'https://www.yqxsy.com/9_9506/1911910.html'\n",
    "head = {}\n",
    "head['User-Agent'] = 'Mozilla/5.0 (Linux; Android 4.1.1; Nexus 7 Build/JRO03D) AppleWebKit/535.19 (KHTML, like Gecko) Chrome/18.0.1025.166  Safari/535.19'\n",
    "download_req = request.Request(url = download_url, headers = head)\n",
    "download_response = request.urlopen(download_req)\n",
    "download_html = download_response.read().decode('gbk','ignore')\n",
    "soup_texts = BeautifulSoup(download_html, 'lxml')\n",
    "\n",
    "\n",
    "#texts = soup_texts.find_all('div', id = 'content')\n",
    "#soup_text = BeautifulSoup(str(texts), 'lxml').text.replace('[', '').replace(']', '')\n",
    "#print(soup_text)"
   ]
  },
  {
   "cell_type": "code",
   "execution_count": 10,
   "metadata": {},
   "outputs": [],
   "source": [
    "req_url_base = 'https://www.yqxsy.com'\n",
    "head = {}\n",
    "head['User-Agent'] = 'Mozilla/5.0 (Linux; Android 4.1.1; Nexus 7 Build/JRO03D) AppleWebKit/535.19 (KHTML, like Gecko) Chrome/18.0.1025.166  Safari/535.19'\n",
    "\n",
    "file_ = open('testfile.txt', 'w')\n",
    "#start from charpter 1\n",
    "current_url = '/9_9506/1911910.html'\n",
    "\n",
    "for i in range(1, 833):\n",
    "    download_url = req_url_base + current_url\n",
    "    download_req = request.Request(url = download_url, headers = head)\n",
    "    download_response = request.urlopen(download_req)\n",
    "    download_html = download_response.read().decode('gbk','ignore')\n",
    "    # get the soup\n",
    "    soup_texts = BeautifulSoup(download_html, 'lxml')\n",
    "\n",
    "    # current charpter info\n",
    "    session_name = soup_texts.select('#wrapper .box_con .bookname h1')[0].text\n",
    "    \n",
    "    texts = soup_texts.find_all('div', id = 'content')\n",
    "    session_text = BeautifulSoup(str(texts), 'lxml').text.replace('[', '').replace(']', '')\n",
    "    \n",
    "    # write into file\n",
    "    file_.write('\\r'+session_name+'\\r\\n')\n",
    "    file_.write(session_text)\n",
    "\n",
    "    # get next charpter\n",
    "    current_url = soup_texts.select('#wrapper .box_con .bottem1 a')[3].get('href')\n",
    "\n",
    "    # end of loop\n",
    "    \n",
    "file_.close()"
   ]
  },
  {
   "cell_type": "code",
   "execution_count": null,
   "metadata": {},
   "outputs": [],
   "source": []
  },
  {
   "cell_type": "code",
   "execution_count": null,
   "metadata": {},
   "outputs": [],
   "source": []
  },
  {
   "cell_type": "code",
   "execution_count": null,
   "metadata": {},
   "outputs": [],
   "source": []
  },
  {
   "cell_type": "code",
   "execution_count": null,
   "metadata": {},
   "outputs": [],
   "source": []
  },
  {
   "cell_type": "code",
   "execution_count": null,
   "metadata": {},
   "outputs": [],
   "source": []
  },
  {
   "cell_type": "code",
   "execution_count": null,
   "metadata": {},
   "outputs": [],
   "source": []
  },
  {
   "cell_type": "code",
   "execution_count": null,
   "metadata": {},
   "outputs": [],
   "source": []
  },
  {
   "cell_type": "code",
   "execution_count": null,
   "metadata": {},
   "outputs": [],
   "source": []
  },
  {
   "cell_type": "code",
   "execution_count": null,
   "metadata": {},
   "outputs": [],
   "source": []
  },
  {
   "cell_type": "code",
   "execution_count": null,
   "metadata": {},
   "outputs": [],
   "source": []
  },
  {
   "cell_type": "code",
   "execution_count": null,
   "metadata": {},
   "outputs": [],
   "source": []
  },
  {
   "cell_type": "code",
   "execution_count": null,
   "metadata": {},
   "outputs": [],
   "source": []
  },
  {
   "cell_type": "code",
   "execution_count": null,
   "metadata": {},
   "outputs": [],
   "source": []
  }
 ],
 "metadata": {
  "kernelspec": {
   "display_name": "Python 3",
   "language": "python",
   "name": "python3"
  },
  "language_info": {
   "codemirror_mode": {
    "name": "ipython",
    "version": 3
   },
   "file_extension": ".py",
   "mimetype": "text/x-python",
   "name": "python",
   "nbconvert_exporter": "python",
   "pygments_lexer": "ipython3",
   "version": "3.7.1"
  }
 },
 "nbformat": 4,
 "nbformat_minor": 2
}
